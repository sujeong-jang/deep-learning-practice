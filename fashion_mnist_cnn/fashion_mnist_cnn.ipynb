{
 "cells": [
  {
   "cell_type": "markdown",
   "id": "6b11c5a3",
   "metadata": {},
   "source": [
    "## Fashion MNIST 이미지 분류 - CNN"
   ]
  },
  {
   "cell_type": "code",
   "execution_count": 2,
   "id": "83408e09",
   "metadata": {},
   "outputs": [],
   "source": [
    "# ref: https://www.tensorflow.org/tutorials/keras/classification?hl=ko"
   ]
  },
  {
   "cell_type": "markdown",
   "id": "c5792309",
   "metadata": {},
   "source": [
    "#### 모듈 import"
   ]
  },
  {
   "cell_type": "code",
   "execution_count": 3,
   "id": "15714d01",
   "metadata": {},
   "outputs": [],
   "source": [
    "import sys \n",
    "import os\n",
    "sys.path.append(os.pardir)  # 부모 디렉터리의 파일을 가져올 수 있도록 설정\n",
    "\n",
    "import tensorflow as tf\n",
    "from keras.models import Sequential\n",
    "from keras.layers import Dense, Input, Conv2D, MaxPooling2D, Dropout, Flatten\n",
    "from keras.utils import to_categorical\n",
    "from keras.datasets import fashion_mnist\n",
    "from keras.callbacks import EarlyStopping, ModelCheckpoint\n",
    "\n",
    "from sklearn.preprocessing import LabelEncoder, OneHotEncoder\n",
    "from sklearn.model_selection import train_test_split\n",
    "\n",
    "import pandas as pd\n",
    "import numpy as np\n",
    "import matplotlib.pyplot as plt\n",
    "\n",
    "import warnings\n",
    "warnings.filterwarnings(action='ignore')"
   ]
  },
  {
   "cell_type": "code",
   "execution_count": 4,
   "id": "8a372811",
   "metadata": {},
   "outputs": [],
   "source": [
    "# seed 고정\n",
    "np.random.seed(121)\n",
    "tf.random.set_seed(121)"
   ]
  },
  {
   "cell_type": "markdown",
   "id": "2c91cb9e",
   "metadata": {},
   "source": [
    "### 데이터셋 불러오기"
   ]
  },
  {
   "cell_type": "code",
   "execution_count": 5,
   "id": "1609d792",
   "metadata": {},
   "outputs": [],
   "source": [
    "fashion_mnist = tf.keras.datasets.fashion_mnist\n",
    "(train_images, train_labels), (test_images, test_labels) = fashion_mnist.load_data()"
   ]
  },
  {
   "cell_type": "code",
   "execution_count": 6,
   "id": "992289fe",
   "metadata": {},
   "outputs": [
    {
     "name": "stdout",
     "output_type": "stream",
     "text": [
      "(60000, 28, 28)\n",
      "(10000, 28, 28)\n"
     ]
    }
   ],
   "source": [
    "print(train_images.shape) # 0에서 255 사이의 값을 갖는 28X28 크기의 numpy array\n",
    "print(test_images.shape)"
   ]
  },
  {
   "cell_type": "code",
   "execution_count": 7,
   "id": "67b8ba06",
   "metadata": {},
   "outputs": [
    {
     "name": "stdout",
     "output_type": "stream",
     "text": [
      "(60000,)\n",
      "(10000,)\n"
     ]
    }
   ],
   "source": [
    "print(train_labels.shape) # 0에서 9까지의 정수 값을 갖는 array\n",
    "print(test_labels.shape)"
   ]
  },
  {
   "cell_type": "code",
   "execution_count": 8,
   "id": "0f000dd2",
   "metadata": {},
   "outputs": [
    {
     "name": "stdout",
     "output_type": "stream",
     "text": [
      "[9 0 0 3 0 2 7 2 5 5]\n",
      "[9 2 1 1 6 1 4 6 5 7]\n"
     ]
    }
   ],
   "source": [
    "print(train_labels[:10])\n",
    "print(test_labels[:10])"
   ]
  },
  {
   "cell_type": "code",
   "execution_count": 9,
   "id": "6186be2f",
   "metadata": {},
   "outputs": [
    {
     "data": {
      "text/plain": [
       "{0, 1, 2, 3, 4, 5, 6, 7, 8, 9}"
      ]
     },
     "execution_count": 9,
     "metadata": {},
     "output_type": "execute_result"
    }
   ],
   "source": [
    "set(train_labels)"
   ]
  },
  {
   "cell_type": "code",
   "execution_count": 10,
   "id": "660ba460",
   "metadata": {},
   "outputs": [
    {
     "data": {
      "text/plain": [
       "10"
      ]
     },
     "execution_count": 10,
     "metadata": {},
     "output_type": "execute_result"
    }
   ],
   "source": [
    "NUM_CLASSES__ = len(set(train_labels))\n",
    "NUM_CLASSES__"
   ]
  },
  {
   "cell_type": "code",
   "execution_count": 11,
   "id": "ebe47a9f",
   "metadata": {},
   "outputs": [
    {
     "data": {
      "text/plain": [
       "<matplotlib.image.AxesImage at 0x23cb2b246c8>"
      ]
     },
     "execution_count": 11,
     "metadata": {},
     "output_type": "execute_result"
    },
    {
     "data": {
      "image/png": "[encoded data removed]",
      "text/plain": [
       "<Figure size 432x288 with 1 Axes>"
      ]
     },
     "metadata": {
      "needs_background": "light"
     },
     "output_type": "display_data"
    }
   ],
   "source": [
    "plt.imshow(train_images[0])"
   ]
  },
  {
   "cell_type": "code",
   "execution_count": 12,
   "id": "f996ae8f",
   "metadata": {},
   "outputs": [],
   "source": [
    "LABEL_NAME__ = ['T-shirt/top', 'Trouser', 'Pullover', 'Dress', 'Coat', 'Sandal', 'Shirt', 'Sneaker', 'Bag', 'Ankel boot']"
   ]
  },
  {
   "cell_type": "markdown",
   "id": "c8a87ac9",
   "metadata": {},
   "source": [
    "#### 공통 함수"
   ]
  },
  {
   "cell_type": "code",
   "execution_count": 13,
   "id": "6037c007",
   "metadata": {},
   "outputs": [],
   "source": [
    "def myPlot(fit_res) :\n",
    "    key_ = list(fit_res.history.keys())\n",
    "    plt.figure(figsize=(12,5))\n",
    "    for i in range(len(key_)):\n",
    "        plt.plot(fit_res.history[key_[i]], label=key_[i])\n",
    "    plt.title(\"metrics\")\n",
    "    plt.xlabel(\"epoch\")\n",
    "    plt.ylabel(\"score\")\n",
    "    plt.legend()\n",
    "    plt.show()"
   ]
  },
  {
   "cell_type": "code",
   "execution_count": 14,
   "id": "a3c26baf",
   "metadata": {},
   "outputs": [],
   "source": [
    "def myscore(X,y,fit_res=None):\n",
    "    # test_loss, test_acc = model.evaluate(test_images,  test_labels, verbose=1)\n",
    "    # print(f\"loss: {test_loss:.5f} accuracy: {test_acc:.5f}\" )\n",
    "    history = model.evaluate(X,  y, verbose=1)\n",
    "    print(f\"loss: {history[0]:.5f} accuracy: {history[1]:.5f}\" )\n",
    "    if fit_res != None:\n",
    "        myPlot(fit_res)\n",
    "# myscore(test_images,  test_labels, fit_res)"
   ]
  },
  {
   "cell_type": "code",
   "execution_count": 16,
   "id": "9767c43d",
   "metadata": {},
   "outputs": [],
   "source": [
    "def mypredit_check(test_X, idx=0):\n",
    "    pred = model.predict(test_X)\n",
    "    print(pred[idx])\n",
    "    pred_label = np.argmax(pred[idx])\n",
    "    print(pred_label, LABEL_NAME__[pred_label])\n",
    "    plt.imshow(test_X[idx])\n",
    "    plt.show()"
   ]
  },
  {
   "cell_type": "markdown",
   "id": "4d23dba9",
   "metadata": {},
   "source": [
    "#### visualization sample image"
   ]
  },
  {
   "cell_type": "code",
   "execution_count": 17,
   "id": "d1fde4c8",
   "metadata": {},
   "outputs": [
    {
     "data": {
      "image/png": "[encoded data removed]",
      "text/plain": [
       "<Figure size 720x720 with 25 Axes>"
      ]
     },
     "metadata": {
      "needs_background": "light"
     },
     "output_type": "display_data"
    }
   ],
   "source": [
    "plt.figure(figsize=(10,10))\n",
    "for i in range(25):\n",
    "    plt.subplot(5,5,i+1)\n",
    "    plt.grid(False)\n",
    "    plt.imshow(train_images[i])\n",
    "    plt.xlabel(LABEL_NAME__[train_labels[i]])\n",
    "plt.show()"
   ]
  },
  {
   "cell_type": "markdown",
   "id": "75262a48",
   "metadata": {},
   "source": [
    "### 데이터 전처리"
   ]
  },
  {
   "cell_type": "markdown",
   "id": "220dee23",
   "metadata": {},
   "source": [
    "- #### 정규화"
   ]
  },
  {
   "cell_type": "code",
   "execution_count": 18,
   "id": "31c0657a",
   "metadata": {},
   "outputs": [],
   "source": [
    "# 0에서 255사이의 값을 갖는 훈련/테스트 데이터들을 0.0~1.0 사이의 값을 갖도록 변환\n",
    "train_images, test_images = train_images / 255.0, test_images / 255.0"
   ]
  },
  {
   "cell_type": "markdown",
   "id": "d59f7c0c",
   "metadata": {},
   "source": [
    "- #### reshape"
   ]
  },
  {
   "cell_type": "code",
   "execution_count": 19,
   "id": "3104a27c",
   "metadata": {},
   "outputs": [
    {
     "name": "stdout",
     "output_type": "stream",
     "text": [
      "(60000, 28, 28, 1) 60000 [9 0 0 3 0]\n",
      "(10000, 28, 28, 1) 10000 [9 2 1 1 6]\n"
     ]
    }
   ],
   "source": [
    "train_images = train_images.reshape(-1, 28, 28, 1)\n",
    "test_images = test_images.reshape(-1, 28, 28, 1)\n",
    "print(train_images.shape, len(train_labels), train_labels[:5])\n",
    "print(test_images.shape, len(test_labels), test_labels[:5])"
   ]
  },
  {
   "cell_type": "markdown",
   "id": "c04db0fd",
   "metadata": {},
   "source": [
    "- #### Encoding"
   ]
  },
  {
   "cell_type": "code",
   "execution_count": 20,
   "id": "4af40e2f",
   "metadata": {},
   "outputs": [
    {
     "name": "stdout",
     "output_type": "stream",
     "text": [
      "(60000, 10)\n",
      "[[0. 0. 0. 0. 0. 0. 0. 0. 0. 1.]\n",
      " [1. 0. 0. 0. 0. 0. 0. 0. 0. 0.]\n",
      " [1. 0. 0. 0. 0. 0. 0. 0. 0. 0.]\n",
      " [0. 0. 0. 1. 0. 0. 0. 0. 0. 0.]\n",
      " [1. 0. 0. 0. 0. 0. 0. 0. 0. 0.]]\n"
     ]
    }
   ],
   "source": [
    "# 원-핫 인코딩 1차원 -> 2차원\n",
    "train_labels_cate = to_categorical(train_labels, NUM_CLASSES__)\n",
    "test_labels_cate = to_categorical(test_labels, NUM_CLASSES__)\n",
    "\n",
    "print(train_labels_cate.shape)\n",
    "print(train_labels_cate[:5])"
   ]
  },
  {
   "cell_type": "markdown",
   "id": "180feb27",
   "metadata": {},
   "source": [
    "### CNN Model build & Fit"
   ]
  },
  {
   "cell_type": "code",
   "execution_count": 21,
   "id": "3cf462ed",
   "metadata": {},
   "outputs": [
    {
     "name": "stdout",
     "output_type": "stream",
     "text": [
      "Model: \"sequential\"\n",
      "_________________________________________________________________\n",
      "Layer (type)                 Output Shape              Param #   \n",
      "=================================================================\n",
      "conv2d (Conv2D)              (None, 26, 26, 32)        320       \n",
      "_________________________________________________________________\n",
      "max_pooling2d (MaxPooling2D) (None, 13, 13, 32)        0         \n",
      "_________________________________________________________________\n",
      "conv2d_1 (Conv2D)            (None, 11, 11, 64)        18496     \n",
      "_________________________________________________________________\n",
      "max_pooling2d_1 (MaxPooling2 (None, 5, 5, 64)          0         \n",
      "_________________________________________________________________\n",
      "flatten (Flatten)            (None, 1600)              0         \n",
      "_________________________________________________________________\n",
      "dense (Dense)                (None, 128)               204928    \n",
      "_________________________________________________________________\n",
      "dropout (Dropout)            (None, 128)               0         \n",
      "_________________________________________________________________\n",
      "dense_1 (Dense)              (None, 10)                1290      \n",
      "=================================================================\n",
      "Total params: 225,034\n",
      "Trainable params: 225,034\n",
      "Non-trainable params: 0\n",
      "_________________________________________________________________\n"
     ]
    }
   ],
   "source": [
    "input_shape = (28, 28, 1) # (width, height, channel 수)\n",
    "model = Sequential( [\n",
    "            Conv2D(32, kernel_size=(3, 3), input_shape=input_shape, activation=\"relu\"),\n",
    "            MaxPooling2D(pool_size=(2, 2)),\n",
    "            Conv2D(64, kernel_size=(3, 3), activation=\"relu\"),\n",
    "            MaxPooling2D(pool_size=(2, 2)),\n",
    "            Flatten(),\n",
    "            Dense(128, activation=\"relu\"),\n",
    "            Dropout(0.5),\n",
    "            Dense(NUM_CLASSES__, activation=\"softmax\")\n",
    "            ] )\n",
    "\n",
    "# OneHotEncoding을 안했을 시 loss = spase_categorical_crossentropy\n",
    "model.compile(loss=\"categorical_crossentropy\", optimizer=\"adam\", metrics=[\"accuracy\"])\n",
    "model.summary()"
   ]
  },
  {
   "cell_type": "code",
   "execution_count": 22,
   "id": "8c59824c",
   "metadata": {},
   "outputs": [],
   "source": [
    "# 모델 저장 폴더\n",
    "if not os.path.exists(\"./model\"):\n",
    "    os.mkdir('./model')\n",
    "\n",
    "filepath = \"./model/{epoch:02d}{val_loss:.3f}.h5\"\n",
    "\n",
    "checkpnt = ModelCheckpoint(filepath, monitor=\"val_loss\", save_best_only=True)\n",
    "estop = EarlyStopping(monitor=\"val_loss\", patience=4)"
   ]
  },
  {
   "cell_type": "code",
   "execution_count": 23,
   "id": "d3497eff",
   "metadata": {},
   "outputs": [
    {
     "name": "stdout",
     "output_type": "stream",
     "text": [
      "Epoch 1/10\n",
      "422/422 [==============================] - 39s 90ms/step - loss: 0.9795 - accuracy: 0.6568 - val_loss: 0.4121 - val_accuracy: 0.8490\n",
      "Epoch 2/10\n",
      "422/422 [==============================] - 40s 95ms/step - loss: 0.4589 - accuracy: 0.8365 - val_loss: 0.3471 - val_accuracy: 0.8660 - loss: 0.4592 - accura\n",
      "Epoch 3/10\n",
      "422/422 [==============================] - 38s 90ms/step - loss: 0.3795 - accuracy: 0.8618 - val_loss: 0.3159 - val_accuracy: 0.8810\n",
      "Epoch 4/10\n",
      "422/422 [==============================] - 37s 87ms/step - loss: 0.3454 - accuracy: 0.8766 - val_loss: 0.3022 - val_accuracy: 0.8833\n",
      "Epoch 5/10\n",
      "422/422 [==============================] - 35s 84ms/step - loss: 0.3213 - accuracy: 0.8821 - val_loss: 0.2856 - val_accuracy: 0.8953\n",
      "Epoch 6/10\n",
      "422/422 [==============================] - 34s 81ms/step - loss: 0.2992 - accuracy: 0.8924 - val_loss: 0.2791 - val_accuracy: 0.8948\n",
      "Epoch 7/10\n",
      "422/422 [==============================] - 34s 80ms/step - loss: 0.2909 - accuracy: 0.8947 - val_loss: 0.2663 - val_accuracy: 0.8982\n",
      "Epoch 8/10\n",
      "422/422 [==============================] - 36s 84ms/step - loss: 0.2702 - accuracy: 0.9016 - val_loss: 0.2594 - val_accuracy: 0.9030\n",
      "Epoch 9/10\n",
      "422/422 [==============================] - 35s 84ms/step - loss: 0.2539 - accuracy: 0.9074 - val_loss: 0.2582 - val_accuracy: 0.9015\n",
      "Epoch 10/10\n",
      "422/422 [==============================] - 35s 83ms/step - loss: 0.2458 - accuracy: 0.9112 - val_loss: 0.2555 - val_accuracy: 0.9035\n"
     ]
    }
   ],
   "source": [
    "fit_res = model.fit(train_images, train_labels_cate, callbacks=[checkpnt, estop], batch_size=128, validation_split=0.1, epochs=10)"
   ]
  },
  {
   "cell_type": "code",
   "execution_count": 24,
   "id": "01eed5a0",
   "metadata": {},
   "outputs": [
    {
     "name": "stdout",
     "output_type": "stream",
     "text": [
      "313/313 [==============================] - 2s 7ms/step - loss: 0.2697 - accuracy: 0.9029\n",
      "loss: 0.26968 accuracy: 0.90290\n"
     ]
    },
    {
     "data": {
      "image/png": "[encoded data removed]",
      "text/plain": [
       "<Figure size 864x360 with 1 Axes>"
      ]
     },
     "metadata": {
      "needs_background": "light"
     },
     "output_type": "display_data"
    }
   ],
   "source": [
    "myscore(test_images,  test_labels_cate, fit_res)"
   ]
  },
  {
   "cell_type": "markdown",
   "id": "d2036377",
   "metadata": {},
   "source": [
    "### 예측 모델 서비스"
   ]
  },
  {
   "cell_type": "markdown",
   "id": "4a44b9d6",
   "metadata": {},
   "source": [
    "#### 1) 임의의 test_images로 테스트"
   ]
  },
  {
   "cell_type": "code",
   "execution_count": 25,
   "id": "04f71d6a",
   "metadata": {},
   "outputs": [
    {
     "data": {
      "text/plain": [
       "(1, 28, 28, 1)"
      ]
     },
     "execution_count": 25,
     "metadata": {},
     "output_type": "execute_result"
    }
   ],
   "source": [
    "img = (np.expand_dims(test_images[0], 0)) # expand_dims는 axis로 지정된 차원을 추가\n",
    "img.shape"
   ]
  },
  {
   "cell_type": "code",
   "execution_count": 26,
   "id": "119392db",
   "metadata": {},
   "outputs": [
    {
     "name": "stdout",
     "output_type": "stream",
     "text": [
      "[1.8471943e-10 4.3079141e-11 8.8240720e-11 2.5037614e-11 2.0447181e-12\n",
      " 2.6790515e-04 1.1215388e-10 2.9766685e-04 2.6449809e-09 9.9943441e-01]\n",
      "9 Ankel boot\n"
     ]
    },
    {
     "data": {
      "image/png": "[encoded data removed]",
      "text/plain": [
       "<Figure size 432x288 with 1 Axes>"
      ]
     },
     "metadata": {
      "needs_background": "light"
     },
     "output_type": "display_data"
    }
   ],
   "source": [
    "mypredit_check(test_images, idx=0)"
   ]
  },
  {
   "cell_type": "markdown",
   "id": "6c1470b9",
   "metadata": {},
   "source": [
    "#### 2) 파일 업로드하여 예측"
   ]
  },
  {
   "cell_type": "code",
   "execution_count": 27,
   "id": "318eeacf",
   "metadata": {},
   "outputs": [
    {
     "data": {
      "application/vnd.jupyter.widget-view+json": {
       "model_id": "1f01ea35a78f464c87f79e1f08586c4d",
       "version_major": 2,
       "version_minor": 0
      },
      "text/plain": [
       "FileUpload(value={}, accept='.png', description='Upload', multiple=True)"
      ]
     },
     "metadata": {},
     "output_type": "display_data"
    }
   ],
   "source": [
    "import ipywidgets as widgets\n",
    "myupload = widgets.FileUpload(\n",
    "    accept= '.png', \n",
    "    multiple=True  \n",
    ")\n",
    "myupload"
   ]
  },
  {
   "cell_type": "code",
   "execution_count": 28,
   "id": "690aedb5",
   "metadata": {},
   "outputs": [
    {
     "name": "stdout",
     "output_type": "stream",
     "text": [
      "['test_sneaker_3.png']\n",
      "(28, 28, 1)\n",
      "(1, 28, 28, 1)\n",
      "[9.0410303e-08 4.3735493e-08 4.7739483e-08 1.1723345e-08 8.8046076e-10\n",
      " 1.6639211e-03 5.5455931e-08 2.6340664e-03 5.0076403e-07 9.9570125e-01]\n",
      "9 Ankel boot\n"
     ]
    },
    {
     "data": {
      "image/png": "[encoded data removed]",
      "text/plain": [
       "<Figure size 432x288 with 1 Axes>"
      ]
     },
     "metadata": {
      "needs_background": "light"
     },
     "output_type": "display_data"
    }
   ],
   "source": [
    "\n",
    "from PIL import Image  \n",
    "import io\n",
    "\n",
    "uploaded_filename = list(myupload.value)\n",
    "print(uploaded_filename)\n",
    "\n",
    "for i, fname in enumerate(uploaded_filename):\n",
    "    content = myupload.value[uploaded_filename[i]]['content']\n",
    "    upload_img = Image.open(io.BytesIO(content)).resize((28, 28))   \n",
    "    plt.imshow(upload_img)\n",
    "    \n",
    "    upload_img = np.array(upload_img)[:, :, 1].reshape(28,28,1) / 255.0\n",
    "    print(upload_img.shape)\n",
    "    upload_img = (np.expand_dims(upload_img,0))\n",
    "    print(upload_img.shape)\n",
    "    mypredit_check(upload_img)"
   ]
  },
  {
   "cell_type": "code",
   "execution_count": null,
   "id": "32d948e1",
   "metadata": {},
   "outputs": [],
   "source": []
  }
 ],
 "metadata": {
  "kernelspec": {
   "display_name": "Python 3",
   "language": "python",
   "name": "python3"
  },
  "language_info": {
   "codemirror_mode": {
    "name": "ipython",
    "version": 3
   },
   "file_extension": ".py",
   "mimetype": "text/x-python",
   "name": "python",
   "nbconvert_exporter": "python",
   "pygments_lexer": "ipython3",
   "version": "3.7.6"
  }
 },
 "nbformat": 4,
 "nbformat_minor": 5
}
